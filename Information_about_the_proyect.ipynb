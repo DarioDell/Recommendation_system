{
 "cells": [
  {
   "cell_type": "markdown",
   "id": "061f3cea",
   "metadata": {},
   "source": [
    "# Recommendation system"
   ]
  },
  {
   "cell_type": "markdown",
   "id": "c87dab6d",
   "metadata": {},
   "source": [
    "## Resume"
   ]
  },
  {
   "cell_type": "markdown",
   "id": "3adc0a6f",
   "metadata": {},
   "source": [
    "In this project I will present a type of recommendation system known as 'collaborative filtering', this method is based on collecting and analyzing user behavior data.\n",
    "Collaborative filtering can predict a user's behavior by analyzing the behavior of other customers with similar characteristics."
   ]
  },
  {
   "cell_type": "markdown",
   "id": "65511094",
   "metadata": {},
   "source": [
    "This is created to be reused. To be able to add more data over time and keep working. It will be based on human interaction just changing the parameters manually as per the client you are looking for.\n",
    "This project is unique because the recommendation systems are more connected with e-commerce, streaming platforms, social networks, travel/accommodation services, educational content platforms, among others. However, what I aim for here is a system of personalized recommendations, on-demand, which would be very beneficial for the marketing department of any company."
   ]
  },
  {
   "cell_type": "markdown",
   "id": "ba57e521",
   "metadata": {},
   "source": [
    "The core concept of this particular project consists in demonstrating the manner how the different instruments are interconnected. It is not only work done in a Jupyter notebook but data gets pulled from a relational database as well.\n",
    " \n",
    "Then I get the kind of data require from SQL Server and I start dealing with python for intense data analysis. It has a Python notebook that hooks up to Sql Server where it gets that data. Here, in the process of applying the cosine similarity function, the project comes to life, which is the core of the project."
   ]
  },
  {
   "cell_type": "markdown",
   "id": "28288af7",
   "metadata": {},
   "source": [
    "The database selected for the project is: **<u>WildWorldImporters</u>**"
   ]
  },
  {
   "cell_type": "markdown",
   "id": "e6b12a95",
   "metadata": {},
   "source": [
    "\"WildWorldImporters\" is a database designed by Microsoft and offered as a working example. The intention was to demonstrate a real-world environment with SQL Server usage and its benefits. \n",
    "The database has a fictional company for the import and retail of the products.\n",
    "The database schema mainly includes tables such as customers, suppliers, products, orders, inventory, etc. The major function of this database is to help developers understand and practically\n",
    "connect with database operations, SQL queries, and other tasks related to database management."
   ]
  },
  {
   "cell_type": "markdown",
   "id": "da1058a5",
   "metadata": {},
   "source": [
    "For the implementation of the project, I will use three primary tools:\n",
    "\n",
    "- ### <u>**SQL Server**:</u> to extract the data\n",
    "- ### <u>**Python**:</u> to develop the script\n",
    "- ### <u>**PowerBi**:</u> with this tool the model and presentation of the report is made"
   ]
  }
 ],
 "metadata": {
  "kernelspec": {
   "display_name": "Python 3 (ipykernel)",
   "language": "python",
   "name": "python3"
  },
  "language_info": {
   "codemirror_mode": {
    "name": "ipython",
    "version": 3
   },
   "file_extension": ".py",
   "mimetype": "text/x-python",
   "name": "python",
   "nbconvert_exporter": "python",
   "pygments_lexer": "ipython3",
   "version": "3.11.2"
  }
 },
 "nbformat": 4,
 "nbformat_minor": 5
}
